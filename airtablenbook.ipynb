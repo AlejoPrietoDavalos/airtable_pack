{
 "cells": [
  {
   "cell_type": "code",
   "execution_count": null,
   "metadata": {},
   "outputs": [],
   "source": [
    "\n",
    "import os\n",
    "\n",
    "from pyairtable import Api, Base, Table\n",
    "from pyairtable.formulas import match\n",
    "from dotenv import load_dotenv\n",
    "load_dotenv()\n",
    "\n",
    "api = Api(os.getenv('AIRTABLE_TKN'))\n",
    "BASE_ID = os.getenv('BASE_ID')\n",
    "\n",
    "base = api.base(BASE_ID)\n",
    "table = base.table(\"function_calls\")\n",
    "table.all()\n",
    "\n",
    "\n",
    "def create_record(function_calls: str, record: dict) -> dict:\n",
    "    table = Table(AIRTABLE_TKN, BASE_ID, function_calls) \n",
    "    result = table.create(record)\n",
    "    return result\n",
    "\n",
    "def get_record(function_calls: str, filter: dict) -> dict:\n",
    "    formula = match(filter)\n",
    "    table = Table(AIRTABLE_TKN, BASE_ID, function_calls)\n",
    "    result = table.all(formula=formula)\n",
    "    return result\n",
    "\n",
    "def update_record(function_calls: str, filter: dict, update: dict) -> dict:\n",
    "    formula = match(filter)\n",
    "    table =Table(AIRTABLE_TKN, BASE_ID, function_calls)\n",
    "    record =table.all(formula=formula)\n",
    "    if len(record) > 0:\n",
    "        id = record[0]['']\n",
    "        result =table.update(id, update)\n",
    "        return result\n",
    "    else:\n",
    "        return []\n",
    "\n",
    "\n",
    "update_record('function_calls', {'description':'Chau, world'}, {'description':'ola k ase'})"
   ]
  }
 ],
 "metadata": {
  "kernelspec": {
   "display_name": "env",
   "language": "python",
   "name": "python3"
  },
  "language_info": {
   "codemirror_mode": {
    "name": "ipython",
    "version": 3
   },
   "file_extension": ".py",
   "mimetype": "text/x-python",
   "name": "python",
   "nbconvert_exporter": "python",
   "pygments_lexer": "ipython3",
   "version": "3.10.12"
  }
 },
 "nbformat": 4,
 "nbformat_minor": 2
}
