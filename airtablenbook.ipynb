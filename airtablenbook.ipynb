{
 "cells": [
  {
   "cell_type": "code",
   "execution_count": null,
   "metadata": {},
   "outputs": [],
   "source": [
    "\n",
    "import os\n",
    "\n",
    "from typing import List \n",
    "from pyairtable import Api, Base, Table\n",
    "from pyairtable.formulas import match\n",
    "from dotenv import load_dotenv\n",
    "load_dotenv()\n",
    "\n",
    "api = Api(os.getenv('AIRTABLE_TKN'))\n",
    "BASE_ID = os.getenv('BASE_ID')\n",
    "\n",
    "base = api.base(BASE_ID)\n",
    "table = base.table(\"function_calls\")"
   ]
  },
  {
   "cell_type": "code",
   "execution_count": null,
   "metadata": {},
   "outputs": [],
   "source": [
    "table.all()"
   ]
  },
  {
   "cell_type": "code",
   "execution_count": null,
   "metadata": {},
   "outputs": [],
   "source": [
    "\n",
    "def create_record(table: Table, record: dict) -> dict:\n",
    "    result = table.create(record)\n",
    "    return result\n",
    "\n",
    "def get_record(table: Table, filter: dict) -> dict:\n",
    "    formula = match(filter)\n",
    "    result = table.all(formula=formula)\n",
    "    return result\n",
    "\n",
    "def update_record(table: Table, filter: dict, update: dict) -> dict:\n",
    "    formula = match(filter)\n",
    "    record =table.all(formula=formula)\n",
    "    if len(record) > 0:\n",
    "        id_ = record[0]['']\n",
    "        result =table.update(id_, update)\n",
    "        return result\n",
    "    else:\n",
    "        return []\n"
   ]
  },
  {
   "cell_type": "code",
   "execution_count": null,
   "metadata": {},
   "outputs": [],
   "source": [
    "#traer los datos de config, y ordenarlo en un diccionario (clave, valor)\n",
    "tags = get_record(config, {'key':'value'})\n",
    "display(tags)"
   ]
  },
  {
   "cell_type": "code",
   "execution_count": null,
   "metadata": {},
   "outputs": [],
   "source": [
    "\n",
    "##usar la funcion resultante, y con el tags (clave,valor) reemplazar el valor que le corresponde.\n",
    "function_calls = \n",
    "\n",
    "#reemplazar en cada campo field el value para cada key.\n",
    "def tag_iteration(table: Table, field_name: str,tags: dict) -> list[dict]:\n",
    "    for k, v in tags.items():\n",
    "         field_name= field_name.replace(f\"||{k}||\", v)\n",
    "    return field_name\n",
    "\n",
    "tag_iteration(table, function_calls , {'fn_name': 'get_location_hours'})"
   ]
  }
 ],
 "metadata": {
  "kernelspec": {
   "display_name": "env",
   "language": "python",
   "name": "python3"
  },
  "language_info": {
   "codemirror_mode": {
    "name": "ipython",
    "version": 3
   },
   "file_extension": ".py",
   "mimetype": "text/x-python",
   "name": "python",
   "nbconvert_exporter": "python",
   "pygments_lexer": "ipython3",
   "version": "3.10.12"
  }
 },
 "nbformat": 4,
 "nbformat_minor": 2
}
