{
 "cells": [
  {
   "cell_type": "code",
   "execution_count": null,
   "metadata": {},
   "outputs": [],
   "source": [
    "\n",
    "import os\n",
    "\n",
    "from typing import List \n",
    "from pyairtable import Api, Base, Table\n",
    "from pyairtable.formulas import match\n",
    "from dotenv import load_dotenv\n",
    "load_dotenv()\n",
    "\n",
    "api = Api(os.getenv('AIRTABLE_TKN'))\n",
    "BASE_ID = os.getenv('BASE_ID')\n",
    "\n",
    "base = api.base(BASE_ID)\n",
    "table = base.table(\"function_calls\")"
   ]
  },
  {
   "cell_type": "code",
   "execution_count": null,
   "metadata": {},
   "outputs": [],
   "source": [
    "table.all()"
   ]
  },
  {
   "cell_type": "code",
   "execution_count": 8,
   "metadata": {},
   "outputs": [],
   "source": [
    "\n",
    "def create_record(table: Table, record: dict) -> dict:\n",
    "    result = table.create(record)\n",
    "    return result\n",
    "\n",
    "def get_record(table: Table, filter: dict) -> dict:\n",
    "    formula = match(filter)\n",
    "    result = table.all(formula=formula)\n",
    "    return result\n",
    "\n",
    "def update_record(table: Table, filter: dict, update: dict) -> dict:\n",
    "    formula = match(filter)\n",
    "    record =table.all(formula=formula)\n",
    "    if len(record) > 0:\n",
    "        id_ = record[0]['']\n",
    "        result =table.update(id_, update)\n",
    "        return result\n",
    "    else:\n",
    "        return []\n"
   ]
  },
  {
   "cell_type": "code",
   "execution_count": 11,
   "metadata": {},
   "outputs": [
    {
     "ename": "NameError",
     "evalue": "name 'function_calls' is not defined",
     "output_type": "error",
     "traceback": [
      "\u001b[0;31m---------------------------------------------------------------------------\u001b[0m",
      "\u001b[0;31mNameError\u001b[0m                                 Traceback (most recent call last)",
      "Cell \u001b[0;32mIn[11], line 2\u001b[0m\n\u001b[1;32m      1\u001b[0m \u001b[38;5;66;03m#Llamo las tablas que quiero relacionar en Mis Petates\u001b[39;00m\n\u001b[0;32m----> 2\u001b[0m records_table1 \u001b[38;5;241m=\u001b[39m get_record(\u001b[43mfunction_calls\u001b[49m,{\u001b[38;5;124m'\u001b[39m\u001b[38;5;124mfn_name\u001b[39m\u001b[38;5;124m'\u001b[39m: \u001b[38;5;124m'\u001b[39m\u001b[38;5;124mdescritption\u001b[39m\u001b[38;5;124m'\u001b[39m})\n\u001b[1;32m      3\u001b[0m records_table2 \u001b[38;5;241m=\u001b[39m get_record(config, {\u001b[38;5;124m'\u001b[39m\u001b[38;5;124mkey\u001b[39m\u001b[38;5;124m'\u001b[39m: \u001b[38;5;124m'\u001b[39m\u001b[38;5;124mvalue\u001b[39m\u001b[38;5;124m'\u001b[39m})\n\u001b[1;32m      5\u001b[0m \u001b[38;5;28mprint\u001b[39m(records_table1)\n",
      "\u001b[0;31mNameError\u001b[0m: name 'function_calls' is not defined"
     ]
    }
   ],
   "source": [
    "#Llamo las tablas que quiero relacionar en Mis Petates\n",
    "records_table1 = get_record(function_calls,{'fn_name': 'descritption'})\n",
    "records_table2 = get_record(config, {'key': 'value'})\n",
    "\n",
    "print(records_table1)\n",
    "print(records_table2)"
   ]
  },
  {
   "cell_type": "code",
   "execution_count": 10,
   "metadata": {},
   "outputs": [
    {
     "ename": "NameError",
     "evalue": "name 'records_table2' is not defined",
     "output_type": "error",
     "traceback": [
      "\u001b[0;31m---------------------------------------------------------------------------\u001b[0m",
      "\u001b[0;31mNameError\u001b[0m                                 Traceback (most recent call last)",
      "Cell \u001b[0;32mIn[10], line 2\u001b[0m\n\u001b[1;32m      1\u001b[0m \u001b[38;5;66;03m#traer los datos de config, y ordenarlo en un diccionario (clave, valor)\u001b[39;00m\n\u001b[0;32m----> 2\u001b[0m convert_dict \u001b[38;5;241m=\u001b[39m \u001b[38;5;28mvars\u001b[39m(\u001b[43mrecords_table2\u001b[49m)\n",
      "\u001b[0;31mNameError\u001b[0m: name 'records_table2' is not defined"
     ]
    }
   ],
   "source": [
    "#traer los datos de config, y ordenarlo en un diccionario (clave, valor)\n",
    "convert_dict = vars(records_table2)\n"
   ]
  },
  {
   "cell_type": "code",
   "execution_count": null,
   "metadata": {},
   "outputs": [],
   "source": [
    "\n",
    "#reemplazar en cada campo field el value para cada key.\n",
    "def tag_iteration(table: Table, field_name: str,tags: dict) -> list[dict]:\n",
    "    for k, v in tags.items():\n",
    "         field_name= field_name.replace(f\"||{k}||\", v)\n",
    "    return field_name\n",
    "\n",
    "tag_iteration(table, config , {'key': 'value'})"
   ]
  }
 ],
 "metadata": {
  "kernelspec": {
   "display_name": "env",
   "language": "python",
   "name": "python3"
  },
  "language_info": {
   "codemirror_mode": {
    "name": "ipython",
    "version": 3
   },
   "file_extension": ".py",
   "mimetype": "text/x-python",
   "name": "python",
   "nbconvert_exporter": "python",
   "pygments_lexer": "ipython3",
   "version": "3.10.12"
  }
 },
 "nbformat": 4,
 "nbformat_minor": 2
}
