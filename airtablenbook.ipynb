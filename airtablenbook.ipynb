{
 "cells": [
  {
   "cell_type": "code",
   "execution_count": 1,
   "metadata": {},
   "outputs": [],
   "source": [
    "\n",
    "import os\n",
    "\n",
    "from pyairtable import Api, Base, Table\n",
    "from pyairtable.formulas import match\n",
    "from dotenv import load_dotenv\n",
    "load_dotenv()\n",
    "\n",
    "api = Api(os.getenv('AIRTABLE_TKN'))\n",
    "BASE_ID = os.getenv('BASE_ID')\n",
    "\n",
    "base = api.base(BASE_ID)\n",
    "table = base.table(\"function_calls\")"
   ]
  },
  {
   "cell_type": "code",
   "execution_count": null,
   "metadata": {},
   "outputs": [],
   "source": [
    "table.all()"
   ]
  },
  {
   "cell_type": "code",
   "execution_count": 2,
   "metadata": {},
   "outputs": [
    {
     "data": {
      "text/plain": [
       "[{'id': 'reccY4UieYWmnVxMd',\n",
       "  'createdTime': '2024-07-19T19:31:01.000Z',\n",
       "  'fields': {'fn_name': 'get_location_hours',\n",
       "   'description': 'Chau, world  ||CLIENT_NAME||'}}]"
      ]
     },
     "execution_count": 2,
     "metadata": {},
     "output_type": "execute_result"
    }
   ],
   "source": [
    "\n",
    "def create_record(table: Table, record: dict) -> dict:\n",
    "    result = table.create(record)\n",
    "    return result\n",
    "\n",
    "def get_record(table: Table, filter: dict) -> dict:\n",
    "    formula = match(filter)\n",
    "    result = table.all(formula=formula)\n",
    "    return result\n",
    "\n",
    "def update_record(table: Table, filter: dict, update: dict) -> dict:\n",
    "    formula = match(filter)\n",
    "    record =table.all(formula=formula)\n",
    "    if len(record) > 0:\n",
    "        id_ = record[0]['']\n",
    "        result =table.update(id_, update)\n",
    "        return result\n",
    "    else:\n",
    "        return []\n",
    "\n",
    "get_record(table, {'fn_name': 'get_location_hours'})"
   ]
  },
  {
   "cell_type": "code",
   "execution_count": 13,
   "metadata": {},
   "outputs": [],
   "source": [
    "#mi idea es usar la función get_record como parámetro y la llamé func\n",
    "#falta el Typing de func\n",
    "func  = get_record(table, {'fn_name': 'get_location_hours'})\n",
    "\n",
    "def tag_iteration(func, tags: dict):\n",
    "    tags = {'client_name':'Mis Petates'}\n",
    "    my_string = 'Bienvenidos a ||client_name||. Siempre buscamos lo mejor para vos, porque ||client_name|| te valora.'\n",
    "    for k, v in tags.items():\n",
    "        my_string = my_string.replace (f\"||{k}||\", v)\n",
    "    return my_string\n"
   ]
  }
 ],
 "metadata": {
  "kernelspec": {
   "display_name": "env",
   "language": "python",
   "name": "python3"
  },
  "language_info": {
   "codemirror_mode": {
    "name": "ipython",
    "version": 3
   },
   "file_extension": ".py",
   "mimetype": "text/x-python",
   "name": "python",
   "nbconvert_exporter": "python",
   "pygments_lexer": "ipython3",
   "version": "3.10.12"
  }
 },
 "nbformat": 4,
 "nbformat_minor": 2
}
