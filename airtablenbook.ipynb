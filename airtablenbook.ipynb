{
 "cells": [
  {
   "cell_type": "code",
   "execution_count": 1,
   "metadata": {},
   "outputs": [],
   "source": [
    "import os\n",
    "\n",
    "from typing import List \n",
    "from pyairtable import Api, Base, Table\n",
    "from pyairtable.formulas import match\n",
    "from dotenv import load_dotenv\n",
    "load_dotenv()\n",
    "\n",
    "api = Api(os.getenv('AIRTABLE_TKN'))\n",
    "BASE_ID = os.getenv('BASE_ID')\n",
    "\n",
    "base = api.base(BASE_ID)\n"
   ]
  },
  {
   "cell_type": "code",
   "execution_count": 3,
   "metadata": {},
   "outputs": [],
   "source": [
    "\n",
    "def create_record(table: Table, record: dict) -> dict:\n",
    "    result = table.create(record)\n",
    "    return result\n",
    "\n",
    "def get_record(table: Table, filter: dict) -> dict:\n",
    "    formula = match(filter)\n",
    "    result = table.all(formula=formula)\n",
    "    return result\n",
    "\n",
    "def update_record(table: Table, filter: dict, update: dict) -> dict:\n",
    "    formula = match(filter)\n",
    "    record =table.all(formula=formula)\n",
    "    if len(record) > 0:\n",
    "        id_ = record[0]['']\n",
    "        result =table.update(id_, update)\n",
    "        return result\n",
    "    else:\n",
    "        return []\n"
   ]
  },
  {
   "cell_type": "code",
   "execution_count": 4,
   "metadata": {},
   "outputs": [],
   "source": [
    "table_function_calls = base.table(\"function_calls\")\n",
    "table_config = base.table(\"config\")\n",
    "data_function_calls =table_function_calls.all()\n",
    "data_config = table_config.all()\n",
    "\n"
   ]
  },
  {
   "cell_type": "code",
   "execution_count": 5,
   "metadata": {},
   "outputs": [
    {
     "data": {
      "text/plain": [
       "[{'id': 'rec7Hofq1gr5dgAsT',\n",
       "  'createdTime': '2024-07-26T15:46:13.000Z',\n",
       "  'fields': {'fn_name': 'test_fn_call',\n",
       "   'description': 'This is a testing function_call from ||CLIENT_NAME|| client.\\nAguante ||FAVORITE_CAVE|| wacho, no me importa nada. ||ALGUNA_BOLUDES||'}},\n",
       " {'id': 'reccY4UieYWmnVxMd',\n",
       "  'createdTime': '2024-07-19T19:31:01.000Z',\n",
       "  'fields': {'fn_name': 'get_location_hours',\n",
       "   'description': 'Chau, world  ||CLIENT_NAME||'}},\n",
       " {'id': 'reckTom51tdODxcdI',\n",
       "  'createdTime': '2024-08-01T03:00:28.000Z',\n",
       "  'fields': {'fn_name': 'asd',\n",
       "   'description': 'asdads ||CLIENT_NAME|| asjdnjasnd ||FAVORITE_CAVE||'}}]"
      ]
     },
     "metadata": {},
     "output_type": "display_data"
    },
    {
     "data": {
      "text/plain": [
       "[{'id': 'recCeSK5pOWisEy2C',\n",
       "  'createdTime': '2024-07-25T20:04:53.000Z',\n",
       "  'fields': {'value': 'Requiem', 'key': 'FAVORITE_CAVE'}},\n",
       " {'id': 'recb4g35L1tX86WCR',\n",
       "  'createdTime': '2024-07-25T20:04:53.000Z',\n",
       "  'fields': {'value': 'fideos con tuco', 'key': 'ALGUNA_BOLUDES'}},\n",
       " {'id': 'recmkovZRwABq7Pjk',\n",
       "  'createdTime': '2024-07-25T20:04:53.000Z',\n",
       "  'fields': {'value': 'Mis Petates', 'key': 'CLIENT_NAME'}}]"
      ]
     },
     "metadata": {},
     "output_type": "display_data"
    }
   ],
   "source": [
    "display(data_function_calls)\n",
    "display(data_config)"
   ]
  },
  {
   "cell_type": "code",
   "execution_count": 6,
   "metadata": {},
   "outputs": [],
   "source": [
    "#Llamo las tablas que quiero relacionar en Mis Petates\n",
    "\n",
    "records_table1 = get_record(table_function_calls,{'fn_name': 'description'})\n",
    "records_table2 = get_record(table_config, {'key': 'value'})\n"
   ]
  },
  {
   "cell_type": "code",
   "execution_count": 7,
   "metadata": {},
   "outputs": [
    {
     "data": {
      "text/plain": [
       "[]"
      ]
     },
     "metadata": {},
     "output_type": "display_data"
    },
    {
     "data": {
      "text/plain": [
       "[]"
      ]
     },
     "metadata": {},
     "output_type": "display_data"
    }
   ],
   "source": [
    "#FIX:ME DEVUELVE LISTAS VACÍAS\n",
    "display(records_table1)\n",
    "display(records_table2)"
   ]
  },
  {
   "cell_type": "code",
   "execution_count": 8,
   "metadata": {},
   "outputs": [
    {
     "data": {
      "text/plain": [
       "'function_calls'"
      ]
     },
     "execution_count": 8,
     "metadata": {},
     "output_type": "execute_result"
    }
   ],
   "source": [
    "#Se define función para iterar por cada tags dentro de config y dentro de function_calls\n",
    "#FIX: DEVUELVE 'function_calls' (?)\n",
    "\n",
    "def tag_iteration(table: Table, field_name: str,tags: dict) -> list[dict]:\n",
    "    for k, v in tags.items():\n",
    "         field_name= field_name.replace(f\"||{k}||\", v)\n",
    "    return field_name\n",
    "\n",
    "tag_iteration(records_table1, 'config' , {'CLIENT_NAME': 'Mis Petates'})\n",
    "tag_iteration(records_table2, 'function_calls', {'fn_name': 'description'})"
   ]
  },
  {
   "cell_type": "code",
   "execution_count": 9,
   "metadata": {},
   "outputs": [
    {
     "data": {
      "text/plain": [
       "{'id': 'recWThqzrBbxGslTf',\n",
       " 'createdTime': '2024-08-05T23:24:46.000Z',\n",
       " 'fields': {'fn_name': 'adam', 'description': 'negro'}}"
      ]
     },
     "execution_count": 9,
     "metadata": {},
     "output_type": "execute_result"
    }
   ],
   "source": [
    "table_function_calls.create({'fn_name': 'eve', 'description': 'naranja'})\n",
    "table_function_calls.create({'fn_name': 'adam', 'description': 'negro'})"
   ]
  },
  {
   "cell_type": "code",
   "execution_count": null,
   "metadata": {},
   "outputs": [],
   "source": []
  }
 ],
 "metadata": {
  "kernelspec": {
   "display_name": "env",
   "language": "python",
   "name": "python3"
  },
  "language_info": {
   "codemirror_mode": {
    "name": "ipython",
    "version": 3
   },
   "file_extension": ".py",
   "mimetype": "text/x-python",
   "name": "python",
   "nbconvert_exporter": "python",
   "pygments_lexer": "ipython3",
   "version": "3.10.12"
  }
 },
 "nbformat": 4,
 "nbformat_minor": 2
}
