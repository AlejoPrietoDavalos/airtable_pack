{
 "cells": [
  {
   "cell_type": "code",
   "execution_count": null,
   "metadata": {},
   "outputs": [],
   "source": [
    "\n",
    "import os\n",
    "\n",
    "from typing import List \n",
    "from pyairtable import Api, Base, Table\n",
    "from pyairtable.formulas import match\n",
    "from dotenv import load_dotenv\n",
    "load_dotenv()\n",
    "\n",
    "api = Api(os.getenv('AIRTABLE_TKN'))\n",
    "BASE_ID = os.getenv('BASE_ID')\n",
    "\n",
    "base = api.base(BASE_ID)\n"
   ]
  },
  {
   "cell_type": "code",
   "execution_count": null,
   "metadata": {},
   "outputs": [],
   "source": [
    "table.all()"
   ]
  },
  {
   "cell_type": "code",
   "execution_count": null,
   "metadata": {},
   "outputs": [],
   "source": [
    "\n",
    "def create_record(table: Table, record: dict) -> dict:\n",
    "    result = table.create(record)\n",
    "    return result\n",
    "\n",
    "def get_record(table: Table, filter: dict) -> dict:\n",
    "    formula = match(filter)\n",
    "    result = table.all(formula=formula)\n",
    "    return result\n",
    "\n",
    "def update_record(table: Table, filter: dict, update: dict) -> dict:\n",
    "    formula = match(filter)\n",
    "    record =table.all(formula=formula)\n",
    "    if len(record) > 0:\n",
    "        id_ = record[0]['']\n",
    "        result =table.update(id_, update)\n",
    "        return result\n",
    "    else:\n",
    "        return []\n"
   ]
  },
  {
   "cell_type": "code",
   "execution_count": null,
   "metadata": {},
   "outputs": [],
   "source": [
    "table_function_calls = base.table(\"function_calls\")\n",
    "table_config = base.table(\"config\")\n",
    "data_function_calls =table_function_calls.all()\n",
    "data_config = table_config.all()"
   ]
  },
  {
   "cell_type": "code",
   "execution_count": null,
   "metadata": {},
   "outputs": [],
   "source": [
    "display(data_function_calls)\n",
    "display(data_config)"
   ]
  },
  {
   "cell_type": "code",
   "execution_count": null,
   "metadata": {},
   "outputs": [],
   "source": [
    "#Llamo las tablas que quiero relacionar en Mis Petates\n",
    "\n",
    "records_table1 = get_record(table_function_calls,{'fn_name': 'description'})\n",
    "records_table2 = get_record(table_config, {'key': 'value'})\n"
   ]
  },
  {
   "cell_type": "code",
   "execution_count": null,
   "metadata": {},
   "outputs": [],
   "source": [
    "#FIX:ME DEVUELVE LISTAS VACÍAS\n",
    "display(records_table1)\n",
    "display(records_table2)"
   ]
  },
  {
   "cell_type": "code",
   "execution_count": 13,
   "metadata": {},
   "outputs": [
    {
     "data": {
      "text/plain": [
       "'function_calls'"
      ]
     },
     "execution_count": 13,
     "metadata": {},
     "output_type": "execute_result"
    }
   ],
   "source": [
    "#Se define función para iterar por cada tags dentro de config y dentro de function_calls\n",
    "#FIX: DEVUELVE 'function_calls' (?)\n",
    "\n",
    "def tag_iteration(table: Table, field_name: str,tags: dict) -> list[dict]:\n",
    "    for k, v in tags.items():\n",
    "         field_name= field_name.replace(f\"||{k}||\", v)\n",
    "    return field_name\n",
    "\n",
    "tag_iteration(records_table1, 'config' , {'CLIENT_NAME': 'Mis Petates'})\n",
    "tag_iteration(records_table2, 'function_calls', {'fn_name': 'description'})"
   ]
  },
  {
   "cell_type": "code",
   "execution_count": 41,
   "metadata": {},
   "outputs": [
    {
     "name": "stdout",
     "output_type": "stream",
     "text": [
      "cualquier cosa\n"
     ]
    }
   ],
   "source": [
    "print('cualquier cosa')"
   ]
  },
  {
   "cell_type": "code",
   "execution_count": null,
   "metadata": {},
   "outputs": [],
   "source": []
  }
 ],
 "metadata": {
  "kernelspec": {
   "display_name": "env",
   "language": "python",
   "name": "python3"
  },
  "language_info": {
   "codemirror_mode": {
    "name": "ipython",
    "version": 3
   },
   "file_extension": ".py",
   "mimetype": "text/x-python",
   "name": "python",
   "nbconvert_exporter": "python",
   "pygments_lexer": "ipython3",
   "version": "3.10.12"
  }
 },
 "nbformat": 4,
 "nbformat_minor": 2
}
